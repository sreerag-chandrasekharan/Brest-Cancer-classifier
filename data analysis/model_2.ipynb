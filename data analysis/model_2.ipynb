{
 "cells": [
  {
   "cell_type": "markdown",
   "id": "5c85b9a7",
   "metadata": {},
   "source": [
    "# Data analysis for mamography image"
   ]
  },
  {
   "cell_type": "markdown",
   "id": "de3ffa08",
   "metadata": {},
   "source": [
    "### Imports"
   ]
  },
  {
   "cell_type": "code",
   "execution_count": null,
   "id": "a933f171",
   "metadata": {},
   "outputs": [],
   "source": [
    "import matplotlib.pyplot as plt\n",
    "import seaborn as sns\n",
    "\n",
    "import numpy as np\n",
    "\n",
    "import keras\n",
    "from keras.models import Sequential\n",
    "from keras.layers import Dense, Conv2D, Flatten , Dropout , BatchNormalization, MaxPooling2D, GlobalAveragePooling2D\n",
    "from keras.callbacks import Callback, ModelCheckpoint, CSVLogger\n",
    "\n",
    "import tensorflow as tf\n",
    "\n",
    "import pickle\n",
    "\n",
    "from sklearn.metrics import classification_report,confusion_matrix"
   ]
  },
  {
   "cell_type": "markdown",
   "id": "7e16b9bf",
   "metadata": {},
   "source": [
    "##### Import data\n",
    "Image data are splited and save seperatly as folders for  ,train , validation and test"
   ]
  },
  {
   "cell_type": "code",
   "execution_count": null,
   "id": "57114d6c",
   "metadata": {},
   "outputs": [],
   "source": [
    "# Paths\n",
    "train_dir = \"C:/Users/Sreerag/Documents/ML_chellange/Brest-Cancer-classifier/data/raw/model_2/train\"\n",
    "val_dir   = \"C:/Users/Sreerag/Documents/ML_chellange/Brest-Cancer-classifier/data/raw/model_2/val\"\n",
    "test_dir  = \"C:/Users/Sreerag/Documents/ML_chellange/Brest-Cancer-classifier/data/raw/model_2/test\""
   ]
  },
  {
   "cell_type": "markdown",
   "id": "9d3bba03",
   "metadata": {},
   "source": [
    "#### Split data"
   ]
  },
  {
   "cell_type": "code",
   "execution_count": null,
   "id": "347ae0be",
   "metadata": {},
   "outputs": [],
   "source": [
    "# Load training data\n",
    "train_ds = tf.keras.utils.image_dataset_from_directory(\n",
    "    train_dir,\n",
    "    image_size=(224, 224),  # resize images\n",
    "    batch_size=64,\n",
    "    label_mode=\"int\",  color_mode=\"rgb\"       # returns 0 (benign), 1 (malignant)\n",
    ")\n",
    "\n",
    "val_ds = tf.keras.utils.image_dataset_from_directory(\n",
    "    val_dir,\n",
    "    image_size=(224, 224),\n",
    "    batch_size=64,\n",
    "    label_mode=\"int\"\n",
    ")\n",
    "\n",
    "test_ds = tf.keras.utils.image_dataset_from_directory(\n",
    "    test_dir,\n",
    "    image_size=(224, 224),\n",
    "    batch_size=64,\n",
    "    label_mode=\"int\"\n",
    ")"
   ]
  },
  {
   "cell_type": "markdown",
   "id": "43a74423",
   "metadata": {},
   "source": [
    "#### Initial Analysis"
   ]
  },
  {
   "cell_type": "code",
   "execution_count": null,
   "id": "76ae7689",
   "metadata": {},
   "outputs": [],
   "source": [
    "# Check class names (labels)\n",
    "print(train_ds.class_names)  # ['benign', 'malignant']"
   ]
  },
  {
   "cell_type": "code",
   "execution_count": null,
   "id": "b49b3d8d",
   "metadata": {},
   "outputs": [],
   "source": [
    "imgs, labels = next(iter(train_ds))"
   ]
  },
  {
   "cell_type": "code",
   "execution_count": null,
   "id": "464dcba9",
   "metadata": {},
   "outputs": [],
   "source": [
    "# Check the shape of images and labels\n",
    "imgs.shape, labels.shape"
   ]
  },
  {
   "cell_type": "code",
   "execution_count": null,
   "id": "65114f66",
   "metadata": {},
   "outputs": [],
   "source": [
    "ind = np.random.randint(0, imgs.shape[0])\n",
    "print(f\"Image shape: {imgs[ind].shape}, Label: {labels[ind]}\")\n",
    "plt.imshow(imgs[0])\n",
    "plt.ylabel(labels[0])\n",
    "plt.show()"
   ]
  },
  {
   "cell_type": "markdown",
   "id": "42d870fd",
   "metadata": {},
   "source": [
    "### Model selection\n",
    "As a starting point, a simple convolutional neural network (CNN) was implemented to establish a baseline for the classification task. The model uses multiple convolution and pooling layers for feature extraction, followed by fully connected layers with dropout to reduce overfitting, and a sigmoid activation in the output layer for binary prediction. This serves as an initial benchmark before exploring more complex models and transfer learning techniques."
   ]
  },
  {
   "cell_type": "code",
   "execution_count": null,
   "id": "947656c1",
   "metadata": {},
   "outputs": [],
   "source": [
    "model = Sequential()\n",
    "model.add(Conv2D(32, (3, 3), input_shape=(224,224,3), activation='relu'))\n",
    "model.add(MaxPooling2D(pool_size=(2, 2)))\n",
    "\n",
    "model.add(Conv2D(32, (3, 3), activation='relu'))\n",
    "model.add(MaxPooling2D(pool_size=(2, 2)))\n",
    "\n",
    "model.add(Conv2D(64, (3, 3), activation='relu'))\n",
    "model.add(MaxPooling2D(pool_size=(2, 2)))\n",
    "\n",
    "model.add(Flatten())\n",
    "model.add(Dense(64, activation='relu'))\n",
    "model.add(Dropout(0.5))\n",
    "model.add(Dense(1, activation='sigmoid'))\n",
    "\n",
    "model.compile(loss='binary_crossentropy', optimizer='rmsprop', metrics=['accuracy'])"
   ]
  },
  {
   "cell_type": "code",
   "execution_count": null,
   "id": "5ecb3e5a",
   "metadata": {},
   "outputs": [],
   "source": [
    "\n",
    "model.summary()"
   ]
  },
  {
   "cell_type": "markdown",
   "id": "f3e7475d",
   "metadata": {},
   "source": [
    "### Train of Model"
   ]
  },
  {
   "cell_type": "code",
   "execution_count": null,
   "id": "91a245c7",
   "metadata": {},
   "outputs": [],
   "source": [
    "# Compile the model\n",
    "model.compile(\n",
    "    loss='binary_crossentropy',\n",
    "    optimizer='rmsprop',\n",
    "    metrics=['accuracy']\n",
    ")"
   ]
  },
  {
   "cell_type": "code",
   "execution_count": null,
   "id": "e25c0b8a",
   "metadata": {},
   "outputs": [],
   "source": [
    "# Train the model\n",
    "history = model.fit(\n",
    "    train_ds,\n",
    "    validation_data=val_ds,\n",
    "    epochs=25,           # change epochs later\n",
    "    batch_size=32        # batch size is already set in dataset\n",
    ")\n"
   ]
  },
  {
   "cell_type": "markdown",
   "id": "2046264a",
   "metadata": {},
   "source": [
    "### Evaluation"
   ]
  },
  {
   "cell_type": "code",
   "execution_count": null,
   "id": "2e856fda",
   "metadata": {},
   "outputs": [],
   "source": [
    "plt.plot(history.history['accuracy'], label='train_accuracy')\n",
    "plt.plot(history.history['val_accuracy'], label='val_accuracy')\n",
    "plt.xlabel('Epoch')\n",
    "plt.ylabel('Accuracy')\n",
    "plt.legend()\n",
    "plt.show()"
   ]
  },
  {
   "cell_type": "markdown",
   "id": "848f5522",
   "metadata": {},
   "source": [
    "The baseline CNN achieved a training accuracy of 97.5% and a loss of 0.068, with a validation accuracy of 86.3% and a loss of 0.522. The results show the model learns the training data well, though there is some overfitting, suggesting potential improvements with data augmentation or more advanced architectures."
   ]
  },
  {
   "cell_type": "markdown",
   "id": "2e84ec14",
   "metadata": {},
   "source": [
    "### Test of model"
   ]
  },
  {
   "cell_type": "code",
   "execution_count": null,
   "id": "7c55de76",
   "metadata": {},
   "outputs": [],
   "source": [
    "# Evaluate on test dataset\n",
    "test_loss, test_acc = model.evaluate(test_ds)\n",
    "print(f\"Test Loss: {test_loss:.4f}\")\n",
    "print(f\"Test Accuracy: {test_acc:.4f}\")"
   ]
  },
  {
   "cell_type": "markdown",
   "id": "485d3fa0",
   "metadata": {},
   "source": [
    "##### prediction "
   ]
  },
  {
   "cell_type": "code",
   "execution_count": null,
   "id": "0d9c2dfd",
   "metadata": {},
   "outputs": [],
   "source": [
    "# Get model predictions\n",
    "y_pred_prob = model.predict(test_ds)\n",
    "y_pred_classes = np.where(y_pred_prob > 0.5, 1, 0)\n",
    "\n",
    "# Get true labels\n",
    "y_true = np.concatenate([y for x, y in test_ds], axis=0)"
   ]
  },
  {
   "cell_type": "code",
   "execution_count": null,
   "id": "d393819c",
   "metadata": {},
   "outputs": [],
   "source": [
    "plt.plot(y_pred_prob,'.',color='red',label='Predicted Probabilty')\n",
    "plt.plot(y_true,'.',color='navy',label='Actual Labels')\n",
    "plt.xlabel('Instance Number')\n",
    "plt.ylabel('Probability')\n",
    "plt.legend()"
   ]
  },
  {
   "cell_type": "code",
   "execution_count": null,
   "id": "fa834c21",
   "metadata": {},
   "outputs": [],
   "source": [
    "from sklearn.metrics import confusion_matrix\n",
    "\n",
    "cm = confusion_matrix(y_true, y_pred_classes)\n",
    "\n",
    "plt.figure(figsize=(6,6))\n",
    "sns.heatmap(cm, cmap=plt.cm.Blues, annot=True, annot_kws={\"size\": 24}, fmt='g')\n",
    "\n",
    "# Correct tick positions and labels\n",
    "plt.xticks([0.5, 1.5], ['Benign','Malignant'], fontsize=16)\n",
    "plt.yticks([0.5, 1.5], ['Benign','Malignant'], fontsize=16, rotation=0)\n",
    "\n",
    "plt.ylabel('True label', fontsize=14)\n",
    "plt.xlabel('Predicted label', fontsize=14)\n",
    "plt.title('Confusion Matrix for Breast Cancer', fontsize=16)\n",
    "plt.show()\n"
   ]
  },
  {
   "cell_type": "code",
   "execution_count": null,
   "id": "f3d7f58b",
   "metadata": {},
   "outputs": [],
   "source": [
    "# Print detailed classification report\n",
    "print(classification_report(y_true, y_pred_classes, target_names=['benign','malignant']))"
   ]
  },
  {
   "cell_type": "markdown",
   "id": "2caa10f4",
   "metadata": {},
   "source": [
    "The higher recall and precision for the malignant class compared to benign indicate that the model is biased towards predicting malignant cases. While it captures malignant cases reasonably well, it struggles with benign classification. This suggests the need for improvements such as data balancing, augmentation, or more advanced architectures to achieve better generalization."
   ]
  },
  {
   "cell_type": "markdown",
   "id": "e9a71342",
   "metadata": {},
   "source": []
  }
 ],
 "metadata": {
  "kernelspec": {
   "display_name": "Python 3",
   "language": "python",
   "name": "python3"
  },
  "language_info": {
   "codemirror_mode": {
    "name": "ipython",
    "version": 3
   },
   "file_extension": ".py",
   "mimetype": "text/x-python",
   "name": "python",
   "nbconvert_exporter": "python",
   "pygments_lexer": "ipython3",
   "version": "3.13.4"
  }
 },
 "nbformat": 4,
 "nbformat_minor": 5
}
